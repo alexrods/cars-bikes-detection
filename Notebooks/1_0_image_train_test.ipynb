{
  "nbformat": 4,
  "nbformat_minor": 0,
  "metadata": {
    "colab": {
      "provenance": [],
      "authorship_tag": "ABX9TyMxyOGBhh5cajXsDFpdQd5w",
      "include_colab_link": true
    },
    "kernelspec": {
      "name": "python3",
      "display_name": "Python 3"
    },
    "language_info": {
      "name": "python"
    }
  },
  "cells": [
    {
      "cell_type": "markdown",
      "metadata": {
        "id": "view-in-github",
        "colab_type": "text"
      },
      "source": [
        "<a href=\"https://colab.research.google.com/github/alexrods/cars-bikes-detection/blob/main/Notebooks/1_0_image_train_test.ipynb\" target=\"_parent\"><img src=\"https://colab.research.google.com/assets/colab-badge.svg\" alt=\"Open In Colab\"/></a>"
      ]
    },
    {
      "cell_type": "code",
      "execution_count": null,
      "metadata": {
        "id": "085WzK3-UnKC"
      },
      "outputs": [],
      "source": [
        "import os\n",
        "import zipfile\n",
        "\n",
        "local_zip = \"/content/dataset_original_2.zip\"\n",
        "zip_ref = zipfile.ZipFile(local_zip, \"r\")\n",
        "zip_ref.extractall(\"dataset\")\n",
        "zip_ref.close()"
      ]
    },
    {
      "cell_type": "code",
      "source": [
        "path = \"dataset/dataset_original_2\"\n",
        "content = os.listdir(path)"
      ],
      "metadata": {
        "id": "rc5oPruOVlEs"
      },
      "execution_count": null,
      "outputs": []
    },
    {
      "cell_type": "code",
      "source": [
        "path_general = \"datasetfinal\"\n",
        "path_train = \"{}/train\".format(path_general)\n",
        "path_test  = \"{}/test\".format(path_general)\n",
        "\n",
        "os.mkdir(path_general)\n",
        "os.mkdir(path_train)\n",
        "os.mkdir(path_test)"
      ],
      "metadata": {
        "id": "_qUF7mPbWB44"
      },
      "execution_count": null,
      "outputs": []
    },
    {
      "cell_type": "code",
      "source": [
        "import random\n",
        "import shutil\n",
        "\n",
        "train = 0.70    \n",
        "for nCount in range(int(len(content)*train)):\n",
        "        random_choice = random.choice(content)\n",
        "        random_choice_abs = \"{}/{}\".format(path, random_choice)\n",
        "        target_img = \"{}/{}\".format(path_train, random_choice)\n",
        "        shutil.copy(random_choice_abs, target_img)\n",
        "        content.remove(random_choice)\n",
        "    "
      ],
      "metadata": {
        "id": "i4YlHGtKXQF2"
      },
      "execution_count": null,
      "outputs": []
    },
    {
      "cell_type": "code",
      "source": [
        "# shutil.rmtree('dataset_final/test/normal')"
      ],
      "metadata": {
        "id": "1SVnOOx_UuIF"
      },
      "execution_count": null,
      "outputs": []
    },
    {
      "cell_type": "code",
      "source": [
        "  \n",
        "for img in content:\n",
        "    random_choice_abs = \"{}/{}\".format(path, img)\n",
        "    target_img = \"{}/{}\".format(path_test, img)\n",
        "    shutil.copyfile(random_choice_abs, target_img)"
      ],
      "metadata": {
        "id": "oqneCImEYnXi"
      },
      "execution_count": null,
      "outputs": []
    },
    {
      "cell_type": "code",
      "source": [
        "!zip -r /content/dataset_final.zip /content/datasetfinal"
      ],
      "metadata": {
        "colab": {
          "base_uri": "https://localhost:8080/"
        },
        "id": "5Vo35m_AZQbk",
        "outputId": "7fe93336-56f8-440f-a804-16e5364c460d"
      },
      "execution_count": null,
      "outputs": [
        {
          "output_type": "stream",
          "name": "stdout",
          "text": [
            "  adding: content/datasetfinal/ (stored 0%)\n",
            "  adding: content/datasetfinal/train/ (stored 0%)\n",
            "  adding: content/datasetfinal/train/6 (12).png (deflated 4%)\n",
            "  adding: content/datasetfinal/train/3 (19).png (deflated 8%)\n",
            "  adding: content/datasetfinal/train/178.jpg (deflated 3%)\n",
            "  adding: content/datasetfinal/train/10 (20).png (deflated 7%)\n",
            "  adding: content/datasetfinal/train/vietnamese-people-ride-bicycles-and-motorbikes-in-ho-chi-minh-city-BA5MNK (1).jpg (deflated 1%)\n",
            "  adding: content/datasetfinal/train/3 (22).png (deflated 7%)\n",
            "  adding: content/datasetfinal/train/5 (3).png (deflated 6%)\n",
            "  adding: content/datasetfinal/train/4 (21).png (deflated 9%)\n",
            "  adding: content/datasetfinal/train/frame_01950.png (deflated 9%)\n",
            "  adding: content/datasetfinal/train/3 (7).png (deflated 8%)\n",
            "  adding: content/datasetfinal/train/4 (18).png (deflated 10%)\n",
            "  adding: content/datasetfinal/train/3 (5).png (deflated 7%)\n",
            "  adding: content/datasetfinal/train/frame_00750.png (deflated 9%)\n",
            "  adding: content/datasetfinal/train/10 (134).png (deflated 8%)\n",
            "  adding: content/datasetfinal/train/2 (24).png (deflated 9%)\n",
            "  adding: content/datasetfinal/train/225__flip.jpg (deflated 0%)\n",
            "  adding: content/datasetfinal/train/1 (6).png (deflated 18%)\n",
            "  adding: content/datasetfinal/train/frame_02700.png (deflated 10%)\n",
            "  adding: content/datasetfinal/train/frame_00650.png (deflated 5%)\n",
            "  adding: content/datasetfinal/train/frame_01900.png (deflated 9%)\n",
            "  adding: content/datasetfinal/train/maxresdefault (1).jpg (deflated 0%)\n",
            "  adding: content/datasetfinal/train/62134520-mature-lady-on-yellow-scooter-scooter-driver-on-street-background-parking-for-a-few-minutes-near-the__flip.jpg (deflated 0%)\n",
            "  adding: content/datasetfinal/train/4 (5).png (deflated 10%)\n",
            "  adding: content/datasetfinal/train/5 (21).png (deflated 5%)\n",
            "  adding: content/datasetfinal/train/5 (32).png (deflated 6%)\n",
            "  adding: content/datasetfinal/train/95945044-man-riding-motorcycle-on-the-road-in-hanoi-vietnam-__flip.jpg (deflated 1%)\n",
            "  adding: content/datasetfinal/train/6 (7).png (deflated 6%)\n",
            "  adding: content/datasetfinal/train/1 (7).png (deflated 18%)\n",
            "  adding: content/datasetfinal/train/31__flip.jpg (deflated 2%)\n",
            "  adding: content/datasetfinal/train/frame_01800.png (deflated 10%)\n",
            "  adding: content/datasetfinal/train/6 (23).png (deflated 4%)\n",
            "  adding: content/datasetfinal/train/frame_02650.png (deflated 10%)\n",
            "  adding: content/datasetfinal/train/3 (3).png (deflated 7%)\n",
            "  adding: content/datasetfinal/train/frame_00700.png (deflated 9%)\n",
            "  adding: content/datasetfinal/train/2 (22).png (deflated 10%)\n",
            "  adding: content/datasetfinal/train/2 (3).png (deflated 8%)\n",
            "  adding: content/datasetfinal/train/frame_02100.png (deflated 10%)\n",
            "  adding: content/datasetfinal/train/10 (12).png (deflated 8%)\n",
            "  adding: content/datasetfinal/train/4 (23).png (deflated 10%)\n",
            "  adding: content/datasetfinal/train/frame_02850.png (deflated 9%)\n",
            "  adding: content/datasetfinal/train/1 (4).png (deflated 19%)\n",
            "  adding: content/datasetfinal/train/4 (35).png (deflated 10%)\n",
            "  adding: content/datasetfinal/train/frame_02600.png (deflated 9%)\n",
            "  adding: content/datasetfinal/train/5 (33).png (deflated 6%)\n",
            "  adding: content/datasetfinal/train/241.jpg (deflated 0%)\n",
            "  adding: content/datasetfinal/train/6 (6).png (deflated 4%)\n",
            "  adding: content/datasetfinal/train/6 (22).png (deflated 4%)\n",
            "  adding: content/datasetfinal/train/frame_01500.png (deflated 10%)\n",
            "  adding: content/datasetfinal/train/frame_00200.png (deflated 6%)\n",
            "  adding: content/datasetfinal/train/3 (29).png (deflated 7%)\n",
            "  adding: content/datasetfinal/train/4 (22).png (deflated 12%)\n",
            "  adding: content/datasetfinal/train/3 (21).png (deflated 7%)\n",
            "  adding: content/datasetfinal/train/1 (5).png (deflated 20%)\n",
            "  adding: content/datasetfinal/train/frame_01400.png (deflated 6%)\n",
            "  adding: content/datasetfinal/train/10 (119).png (deflated 7%)\n",
            "  adding: content/datasetfinal/train/10 (118).png (deflated 6%)\n",
            "  adding: content/datasetfinal/train/4 (34).png (deflated 12%)\n",
            "  adding: content/datasetfinal/train/3 (30).png (deflated 7%)\n",
            "  adding: content/datasetfinal/train/10 (34).png (deflated 6%)\n",
            "  adding: content/datasetfinal/train/5 (13).png (deflated 7%)\n",
            "  adding: content/datasetfinal/train/3 (11).png (deflated 7%)\n",
            "  adding: content/datasetfinal/train/10 (21).png (deflated 5%)\n",
            "  adding: content/datasetfinal/train/frame_02750.png (deflated 11%)\n",
            "  adding: content/datasetfinal/train/frame_02200.png (deflated 9%)\n",
            "  adding: content/datasetfinal/train/1 (3).png (deflated 19%)\n",
            "  adding: content/datasetfinal/train/5 (19).png (deflated 5%)\n",
            "  adding: content/datasetfinal/train/3 (17).png (deflated 7%)\n",
            "  adding: content/datasetfinal/train/3 (35).png (deflated 7%)\n",
            "  adding: content/datasetfinal/train/frame_00150.png (deflated 7%)\n",
            "  adding: content/datasetfinal/train/10 (102).png (deflated 8%)\n",
            "  adding: content/datasetfinal/train/frame_02900.png (deflated 9%)\n",
            "  adding: content/datasetfinal/train/2 (26).png (deflated 9%)\n",
            "  adding: content/datasetfinal/train/4 (6).png (deflated 10%)\n",
            "  adding: content/datasetfinal/train/2 (13).png (deflated 9%)\n",
            "  adding: content/datasetfinal/train/1 (1).png (deflated 20%)\n",
            "  adding: content/datasetfinal/train/frame_02050.png (deflated 10%)\n",
            "  adding: content/datasetfinal/train/5 (14).png (deflated 6%)\n",
            "  adding: content/datasetfinal/train/308__flip.jpg (deflated 0%)\n",
            "  adding: content/datasetfinal/train/4 (14).png (deflated 9%)\n",
            "  adding: content/datasetfinal/train/rally-1417825610.jpg (deflated 0%)\n",
            "  adding: content/datasetfinal/train/1 (2).png (deflated 16%)\n",
            "  adding: content/datasetfinal/train/3 (34).png (deflated 7%)\n",
            "  adding: content/datasetfinal/train/3 (23).png (deflated 8%)\n",
            "  adding: content/datasetfinal/train/3 (27).png (deflated 7%)\n",
            "  adding: content/datasetfinal/train/10 (135).png (deflated 8%)\n",
            "  adding: content/datasetfinal/train/3 (36).png (deflated 7%)\n",
            "  adding: content/datasetfinal/train/3 (12).png (deflated 7%)\n",
            "  adding: content/datasetfinal/train/4 (20).png (deflated 10%)\n",
            "  adding: content/datasetfinal/train/frame_01550.png (deflated 11%)\n",
            "  adding: content/datasetfinal/train/10 (2).png (deflated 6%)\n",
            "  adding: content/datasetfinal/train/frame_00600.png (deflated 6%)\n",
            "  adding: content/datasetfinal/train/10 (104).png (deflated 8%)\n",
            "  adding: content/datasetfinal/train/3 (1).png (deflated 10%)\n",
            "  adding: content/datasetfinal/train/5 (4).png (deflated 6%)\n",
            "  adding: content/datasetfinal/train/frame_01100.png (deflated 6%)\n",
            "  adding: content/datasetfinal/train/6 (30).png (deflated 5%)\n",
            "  adding: content/datasetfinal/train/3 (33).png (deflated 7%)\n",
            "  adding: content/datasetfinal/train/3 (18).png (deflated 7%)\n",
            "  adding: content/datasetfinal/train/frame_02800.png (deflated 9%)\n",
            "  adding: content/datasetfinal/train/10 (13).png (deflated 8%)\n",
            "  adding: content/datasetfinal/train/6 (11).png (deflated 4%)\n",
            "  adding: content/datasetfinal/train/frame_02150.png (deflated 10%)\n",
            "  adding: content/datasetfinal/train/3 (32).png (deflated 7%)\n",
            "  adding: content/datasetfinal/train/frame_02000.png (deflated 9%)\n",
            "  adding: content/datasetfinal/train/3 (31).png (deflated 8%)\n",
            "  adding: content/datasetfinal/train/10 (122).png (deflated 7%)\n",
            "  adding: content/datasetfinal/train/10 (22).png (deflated 5%)\n",
            "  adding: content/datasetfinal/train/frame_01450.png (deflated 5%)\n",
            "  adding: content/datasetfinal/train/4 (15).png (deflated 10%)\n",
            "  adding: content/datasetfinal/train/1 (8).png (deflated 18%)\n",
            "  adding: content/datasetfinal/test/ (stored 0%)\n",
            "  adding: content/datasetfinal/test/4 (16).png (deflated 12%)\n",
            "  adding: content/datasetfinal/test/3 (2).png (deflated 7%)\n",
            "  adding: content/datasetfinal/test/3 (25).png (deflated 8%)\n",
            "  adding: content/datasetfinal/test/3 (4).png (deflated 7%)\n",
            "  adding: content/datasetfinal/test/3 (10).png (deflated 8%)\n",
            "  adding: content/datasetfinal/test/3 (13).png (deflated 8%)\n",
            "  adding: content/datasetfinal/test/3 (6).png (deflated 7%)\n",
            "  adding: content/datasetfinal/test/5 (31).png (deflated 7%)\n",
            "  adding: content/datasetfinal/test/10 (16).png (deflated 5%)\n",
            "  adding: content/datasetfinal/test/10 (37).png (deflated 6%)\n",
            "  adding: content/datasetfinal/test/3 (24).png (deflated 8%)\n",
            "  adding: content/datasetfinal/test/10 (33).png (deflated 5%)\n",
            "  adding: content/datasetfinal/test/3 (9).png (deflated 7%)\n",
            "  adding: content/datasetfinal/test/285__flip.jpg (deflated 1%)\n",
            "  adding: content/datasetfinal/test/3 (15).png (deflated 8%)\n",
            "  adding: content/datasetfinal/test/4 (17).png (deflated 10%)\n",
            "  adding: content/datasetfinal/test/10 (140).png (deflated 8%)\n",
            "  adding: content/datasetfinal/test/frame_01850.png (deflated 11%)\n",
            "  adding: content/datasetfinal/test/232__flip.jpg (deflated 0%)\n",
            "  adding: content/datasetfinal/test/3 (14).png (deflated 7%)\n",
            "  adding: content/datasetfinal/test/adult-man-rides-yellow-scooter-guy-street-background-travel-brought-new-impressions-where-should-i-go-next-76453653__flip.jpg (deflated 1%)\n",
            "  adding: content/datasetfinal/test/3 (28).png (deflated 8%)\n",
            "  adding: content/datasetfinal/test/2 (14).png (deflated 9%)\n",
            "  adding: content/datasetfinal/test/1 (9).png (deflated 17%)\n",
            "  adding: content/datasetfinal/test/pcv-12258698__flip.jpg (deflated 0%)\n",
            "  adding: content/datasetfinal/test/3 (20).png (deflated 7%)\n",
            "  adding: content/datasetfinal/test/10 (14).png (deflated 8%)\n",
            "  adding: content/datasetfinal/test/5 (12).png (deflated 5%)\n",
            "  adding: content/datasetfinal/test/10 (11).png (deflated 8%)\n",
            "  adding: content/datasetfinal/test/5 (5).png (deflated 6%)\n",
            "  adding: content/datasetfinal/test/frame_01050.png (deflated 5%)\n",
            "  adding: content/datasetfinal/test/2 (25).png (deflated 9%)\n",
            "  adding: content/datasetfinal/test/3 (16).png (deflated 8%)\n",
            "  adding: content/datasetfinal/test/4 (4).png (deflated 12%)\n",
            "  adding: content/datasetfinal/test/4 (7).png (deflated 12%)\n",
            "  adding: content/datasetfinal/test/10 (103).png (deflated 7%)\n",
            "  adding: content/datasetfinal/test/93__flip.jpg (deflated 0%)\n",
            "  adding: content/datasetfinal/test/5 (20).png (deflated 6%)\n",
            "  adding: content/datasetfinal/test/2 (2).png (deflated 9%)\n",
            "  adding: content/datasetfinal/test/6 (29).png (deflated 4%)\n",
            "  adding: content/datasetfinal/test/hanoi-vietnam-january-people-riding-motorbikes-busy-street-hanoi-vietnam-people-riding-motorbikes-busy-street-hanoi-120908376__flip.jpg (deflated 1%)\n",
            "  adding: content/datasetfinal/test/3 (8).png (deflated 7%)\n",
            "  adding: content/datasetfinal/test/133.jpg (deflated 0%)\n",
            "  adding: content/datasetfinal/test/10 (15).png (deflated 6%)\n",
            "  adding: content/datasetfinal/test/3 (26).png (deflated 7%)\n",
            "  adding: content/datasetfinal/test/201__flip.jpg (deflated 0%)\n",
            "  adding: content/datasetfinal/test/10 (36).png (deflated 7%)\n",
            "  adding: content/datasetfinal/test/59.jpg (deflated 1%)\n"
          ]
        }
      ]
    },
    {
      "cell_type": "code",
      "source": [],
      "metadata": {
        "id": "wg8hYtpaZjk3"
      },
      "execution_count": null,
      "outputs": []
    }
  ]
}